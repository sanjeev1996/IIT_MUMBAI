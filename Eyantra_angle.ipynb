{
  "nbformat": 4,
  "nbformat_minor": 0,
  "metadata": {
    "colab": {
      "name": "Eyantra_angle.ipynb",
      "provenance": [],
      "collapsed_sections": [],
      "include_colab_link": true
    },
    "kernelspec": {
      "name": "python3",
      "display_name": "Python 3"
    }
  },
  "cells": [
    {
      "cell_type": "markdown",
      "metadata": {
        "id": "view-in-github",
        "colab_type": "text"
      },
      "source": [
        "<a href=\"https://colab.research.google.com/github/sanjeev1996/IIT_MUMBAI/blob/master/Eyantra_angle.ipynb\" target=\"_parent\"><img src=\"https://colab.research.google.com/assets/colab-badge.svg\" alt=\"Open In Colab\"/></a>"
      ]
    },
    {
      "cell_type": "code",
      "metadata": {
        "id": "wWNcx9eonap0",
        "colab_type": "code",
        "outputId": "242f299b-6646-48d8-eb85-616077355222",
        "colab": {
          "base_uri": "https://localhost:8080/",
          "height": 85
        }
      },
      "source": [
        "import cv2 \n",
        "import math\n",
        "import numpy as np \n",
        "from google.colab.patches import cv2_imshow\n",
        "\n",
        "image1 = cv2.imread('image_2.png')\n",
        "\n",
        "image=image1\n",
        "hsv = cv2.cvtColor(image, cv2.COLOR_BGR2HSV)\n",
        "\n",
        "lower_red = np.array([0,100,100])\n",
        "upper_red = np.array([0,255,255])\n",
        "\n",
        "mask = cv2.inRange(hsv, lower_red, upper_red)\n",
        "image = cv2.bitwise_and(image,image, mask= mask)\n",
        "gray = cv2.cvtColor(image, cv2.COLOR_BGR2GRAY)\n",
        "blurred = cv2.GaussianBlur(gray, (5, 5), 0)\n",
        "thresh = cv2.threshold(blurred, 60, 255, cv2.THRESH_BINARY)[1]\n",
        "cnts = cv2.findContours(thresh.copy(), cv2.RETR_EXTERNAL,cv2.CHAIN_APPROX_SIMPLE)\n",
        "cnts = imutils.grab_contours(cnts)\n",
        "for c in cnts:\n",
        "  M = cv2.moments(c)\n",
        "  cX1 = int(M[\"m10\"] / M[\"m00\"])\n",
        "  cY1 = int(M[\"m01\"] / M[\"m00\"])\n",
        "  print(cX1, cY1)\n",
        "\n",
        "image=image1\n",
        "hsv = cv2.cvtColor(image, cv2.COLOR_BGR2HSV)\n",
        "\n",
        "lower_green = np.array([25, 52, 72])\n",
        "upper_green = np.array([102, 255, 255])\n",
        "\n",
        "mask = cv2.inRange(hsv, lower_green, upper_green)\n",
        "image = cv2.bitwise_and(image,image, mask= mask)\n",
        "gray = cv2.cvtColor(image, cv2.COLOR_BGR2GRAY)\n",
        "blurred = cv2.GaussianBlur(gray, (5, 5), 0)\n",
        "thresh = cv2.threshold(blurred, 60, 255, cv2.THRESH_BINARY)[1]\n",
        "cnts = cv2.findContours(thresh.copy(), cv2.RETR_EXTERNAL,cv2.CHAIN_APPROX_SIMPLE)\n",
        "cnts = imutils.grab_contours(cnts)\n",
        "for c in cnts:\n",
        "  M = cv2.moments(c)\n",
        "  cX2 = int(M[\"m10\"] / M[\"m00\"])\n",
        "  cY2 = int(M[\"m01\"] / M[\"m00\"])\n",
        "  print(cX2, cY2)\n",
        "\n",
        "image=image1\n",
        "hsv = cv2.cvtColor(image, cv2.COLOR_BGR2HSV)\n",
        "\n",
        "lower_white = np.array([0, 0, 212])\n",
        "upper_white = np.array([131, 255, 255])\n",
        "\n",
        "mask = cv2.inRange(hsv, lower_white, upper_white)\n",
        "image = cv2.bitwise_and(image,image, mask= mask)\n",
        "gray = cv2.cvtColor(image, cv2.COLOR_BGR2GRAY)\n",
        "blurred = cv2.GaussianBlur(gray, (5, 5), 0)\n",
        "thresh = cv2.threshold(blurred, 60, 255, cv2.THRESH_BINARY)[1]\n",
        "cnts = cv2.findContours(thresh.copy(), cv2.RETR_EXTERNAL,cv2.CHAIN_APPROX_SIMPLE)\n",
        "cnts = imutils.grab_contours(cnts)\n",
        "for c in cnts:\n",
        "  M = cv2.moments(c)\n",
        "  cX = int(M[\"m10\"] / M[\"m00\"])\n",
        "  cY = int(M[\"m01\"] / M[\"m00\"])\n",
        "  print(cX, cY)\n",
        "\n",
        "def getAngle(a, b, c):\n",
        "    ang = math.degrees(math.atan2(c[1]-b[1], c[0]-b[0]) - math.atan2(a[1]-b[1], a[0]-b[0]))\n",
        "    ang = ang + 360 if ang < 0 else ang\n",
        "    return 360-ang if ang>180 else ang\n",
        "    \n",
        "print(getAngle((cX1, cY1), (cX, cY), (cX2, cY2)))\n"
      ],
      "execution_count": 0,
      "outputs": [
        {
          "output_type": "stream",
          "text": [
            "267 327\n",
            "536 815\n",
            "511 511\n",
            "131.7211312596197\n"
          ],
          "name": "stdout"
        }
      ]
    }
  ]
}